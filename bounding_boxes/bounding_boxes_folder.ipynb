{
 "cells": [
  {
   "cell_type": "code",
   "execution_count": 1,
   "metadata": {},
   "outputs": [],
   "source": [
    "import cv2\n",
    "import numpy as np\n",
    "import matplotlib.pyplot as plt\n",
    "%matplotlib inline\n",
    "import os\n",
    "import glob"
   ]
  },
  {
   "cell_type": "code",
   "execution_count": 2,
   "metadata": {},
   "outputs": [],
   "source": [
    "#Needs a 8-bit image"
   ]
  },
  {
   "cell_type": "code",
   "execution_count": 3,
   "metadata": {},
   "outputs": [],
   "source": [
    "#Function that draws a rectangle (bounding box) on the masks found \n",
    "def bounding_boxes(input_image, output_path):\n",
    "    image = cv2.imread(input_image)\n",
    "    grayImage = cv2.cvtColor(image, cv2.COLOR_BGR2GRAY)\n",
    "    (thresh, binary) = cv2.threshold(grayImage, 1, 255, cv2.THRESH_BINARY)\n",
    "    cnts = cv2.findContours(grayImage, cv2.RETR_EXTERNAL, cv2.CHAIN_APPROX_SIMPLE)\n",
    "    cnts = cnts[0] if len(cnts) == 2 else cnts[1]\n",
    "    for c in cnts:\n",
    "        x,y,w,h = cv2.boundingRect(c)\n",
    "        cv2.rectangle(image, (x, y), (x + w, y + h), (0,0,255), 2)\n",
    "    cv2.imwrite(output_path, image)\n",
    "    "
   ]
  },
  {
   "cell_type": "code",
   "execution_count": 4,
   "metadata": {},
   "outputs": [],
   "source": [
    "# Path to the folder that contains the segmented masks\n",
    "input_data_folder = os.path.join(\"test_data\", \"input\", \"BA\") \n",
    "\n",
    "# Path to the folder where the segmented masks with the bounding boxes will be stored\n",
    "output_data_folder = os.path.join(\"test_data\", \"output\", \"BA\")"
   ]
  },
  {
   "cell_type": "code",
   "execution_count": 5,
   "metadata": {},
   "outputs": [],
   "source": [
    "#List of all the images that will be processed\n",
    "files = os.listdir(input_data_folder)\n",
    "for image in files:\n",
    "    input_image = os.path.join(input_data_folder, image)\n",
    "    input_image_no_extension = os.path.splitext(image)[0]\n",
    "    output_image = os.path.join(output_data_folder, \"bbox-\"+input_image_no_extension+\".png\")\n",
    "    bounding_boxes(input_image, output_image)"
   ]
  },
  {
   "cell_type": "code",
   "execution_count": null,
   "metadata": {},
   "outputs": [],
   "source": []
  },
  {
   "cell_type": "code",
   "execution_count": null,
   "metadata": {},
   "outputs": [],
   "source": []
  },
  {
   "cell_type": "code",
   "execution_count": null,
   "metadata": {},
   "outputs": [],
   "source": []
  }
 ],
 "metadata": {
  "kernelspec": {
   "display_name": "Python 3",
   "language": "python",
   "name": "python3"
  },
  "language_info": {
   "codemirror_mode": {
    "name": "ipython",
    "version": 3
   },
   "file_extension": ".py",
   "mimetype": "text/x-python",
   "name": "python",
   "nbconvert_exporter": "python",
   "pygments_lexer": "ipython3",
   "version": "3.7.4"
  }
 },
 "nbformat": 4,
 "nbformat_minor": 4
}
